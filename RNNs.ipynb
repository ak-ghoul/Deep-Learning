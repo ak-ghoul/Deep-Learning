{
  "nbformat": 4,
  "nbformat_minor": 0,
  "metadata": {
    "colab": {
      "name": "RNNs.ipynb",
      "provenance": [],
      "include_colab_link": true
    },
    "kernelspec": {
      "name": "python3",
      "display_name": "Python 3"
    }
  },
  "cells": [
    {
      "cell_type": "markdown",
      "metadata": {
        "id": "view-in-github",
        "colab_type": "text"
      },
      "source": [
        "<a href=\"https://colab.research.google.com/github/ak-ghoul/Deep-Learning/blob/master/RNNs.ipynb\" target=\"_parent\"><img src=\"https://colab.research.google.com/assets/colab-badge.svg\" alt=\"Open In Colab\"/></a>"
      ]
    },
    {
      "cell_type": "code",
      "metadata": {
        "id": "PBebSjp86MzN",
        "colab_type": "code",
        "colab": {}
      },
      "source": [
        "import matplotlib.pyplot as plt\n",
        "import numpy as np\n",
        "import seaborn as sb\n",
        "import os, string, random, time, math\n",
        "from io import open\n",
        "from sklearn.model_selection import train_test_split"
      ],
      "execution_count": 0,
      "outputs": []
    },
    {
      "cell_type": "code",
      "metadata": {
        "id": "yn845HeL6xWh",
        "colab_type": "code",
        "colab": {}
      },
      "source": [
        "import torch\n",
        "import torch.nn as nn\n",
        "import torch.optim as optim"
      ],
      "execution_count": 0,
      "outputs": []
    },
    {
      "cell_type": "code",
      "metadata": {
        "id": "pBjZudct679Y",
        "colab_type": "code",
        "colab": {}
      },
      "source": [
        "from IPython.display import clear_output\n",
        "sb.set()"
      ],
      "execution_count": 0,
      "outputs": []
    },
    {
      "cell_type": "code",
      "metadata": {
        "id": "Vh9cO0x67BSL",
        "colab_type": "code",
        "colab": {}
      },
      "source": [
        "languages = []\n",
        "X = []\n",
        "Y = []\n",
        "data = []\n",
        "with open('name2lang.txt', 'r') as file:\n",
        "  for line in file:   # check this file for better understanding\n",
        "    line = line.split(',')\n",
        "    name = line[0].strip()\n",
        "    lang = line[1].strip()\n",
        "    data.append((name, lang))\n",
        "    if not lang in languages:\n",
        "      languages.append(lang)\n",
        "    X.append(name)\n",
        "    Y.append(lang)\n",
        "\n",
        "n_languages = len(languages)"
      ],
      "execution_count": 0,
      "outputs": []
    },
    {
      "cell_type": "code",
      "metadata": {
        "id": "ojyUwZzi94Qh",
        "colab_type": "code",
        "outputId": "73fcd149-a7c5-4445-eba6-445b83edc41d",
        "colab": {
          "base_uri": "https://localhost:8080/",
          "height": 54
        }
      },
      "source": [
        "print(languages)"
      ],
      "execution_count": 0,
      "outputs": [
        {
          "output_type": "stream",
          "text": [
            "['Portuguese', 'Irish', 'Spanish', 'Vietnamese', 'Chinese', 'Greek', 'Czech', 'Dutch', 'Japanese', 'French', 'German', 'Scottish', 'English', 'Russian', 'Polish', 'Arabic', 'Korean', 'Italian']\n"
          ],
          "name": "stdout"
        }
      ]
    },
    {
      "cell_type": "code",
      "metadata": {
        "id": "nO0cMh769_jf",
        "colab_type": "code",
        "colab": {}
      },
      "source": [
        "X_train, X_test, Y_train, Y_test = train_test_split(X, Y, test_size = 0.2, stratify = Y, random_state = 0)"
      ],
      "execution_count": 0,
      "outputs": []
    },
    {
      "cell_type": "code",
      "metadata": {
        "id": "4Yhd6_euDZF0",
        "colab_type": "code",
        "colab": {}
      },
      "source": [
        "print(X_train)"
      ],
      "execution_count": 0,
      "outputs": []
    },
    {
      "cell_type": "code",
      "metadata": {
        "id": "QUZIHOrPDa8L",
        "colab_type": "code",
        "colab": {}
      },
      "source": [
        "all_letters = string.ascii_letters + \".,;'\"\n",
        "n_letters = len(all_letters)"
      ],
      "execution_count": 0,
      "outputs": []
    },
    {
      "cell_type": "code",
      "metadata": {
        "id": "2fLPi-6AQJW2",
        "colab_type": "code",
        "outputId": "307cc860-56bb-424b-8842-a3c3f8c2381e",
        "colab": {
          "base_uri": "https://localhost:8080/",
          "height": 34
        }
      },
      "source": [
        "print(all_letters)"
      ],
      "execution_count": 0,
      "outputs": [
        {
          "output_type": "stream",
          "text": [
            "abcdefghijklmnopqrstuvwxyzABCDEFGHIJKLMNOPQRSTUVWXYZ.,;'\n"
          ],
          "name": "stdout"
        }
      ]
    },
    {
      "cell_type": "code",
      "metadata": {
        "id": "f6XtOw1pRcjC",
        "colab_type": "code",
        "colab": {}
      },
      "source": [
        "def name_represent(name):\n",
        "  oneHot_name = torch.zeros(len(name), 1, n_letters)\n",
        "  for index, letter in enumerate(name):\n",
        "    pos = all_letters.find(letter)\n",
        "    oneHot_name[index][0][pos] = 1\n",
        "  return oneHot_name"
      ],
      "execution_count": 0,
      "outputs": []
    },
    {
      "cell_type": "code",
      "metadata": {
        "id": "z58yMd-LVv1m",
        "colab_type": "code",
        "colab": {}
      },
      "source": [
        "'''def lang_rep(lang):                          \n",
        "  oh_lang = torch.zeros(n_languages, 1)\n",
        "  pos = languages.index(lang)\n",
        "  oh_lang[pos][0] = 1\n",
        "  return oh_lang '''                    # function to just creaste position tensor & not one hot encode it :           \n",
        "def lang_rep(lang):       \n",
        "  return torch.tensor([languages.index(lang)], dtype = torch.long)"
      ],
      "execution_count": 0,
      "outputs": []
    },
    {
      "cell_type": "code",
      "metadata": {
        "id": "Ftjr53w8Yycv",
        "colab_type": "code",
        "outputId": "58d7578a-4968-44d0-851e-a4b6d9091d01",
        "colab": {
          "base_uri": "https://localhost:8080/",
          "height": 850
        }
      },
      "source": [
        "name_represent('Tzelobenok')"
      ],
      "execution_count": 0,
      "outputs": [
        {
          "output_type": "execute_result",
          "data": {
            "text/plain": [
              "tensor([[[0., 0., 0., 0., 0., 0., 0., 0., 0., 0., 0., 0., 0., 0., 0., 0., 0.,\n",
              "          0., 0., 0., 0., 0., 0., 0., 0., 0., 0., 0., 0., 0., 0., 0., 0., 0.,\n",
              "          0., 0., 0., 0., 0., 0., 0., 0., 0., 0., 0., 1., 0., 0., 0., 0., 0.,\n",
              "          0., 0., 0., 0., 0.]],\n",
              "\n",
              "        [[0., 0., 0., 0., 0., 0., 0., 0., 0., 0., 0., 0., 0., 0., 0., 0., 0.,\n",
              "          0., 0., 0., 0., 0., 0., 0., 0., 1., 0., 0., 0., 0., 0., 0., 0., 0.,\n",
              "          0., 0., 0., 0., 0., 0., 0., 0., 0., 0., 0., 0., 0., 0., 0., 0., 0.,\n",
              "          0., 0., 0., 0., 0.]],\n",
              "\n",
              "        [[0., 0., 0., 0., 1., 0., 0., 0., 0., 0., 0., 0., 0., 0., 0., 0., 0.,\n",
              "          0., 0., 0., 0., 0., 0., 0., 0., 0., 0., 0., 0., 0., 0., 0., 0., 0.,\n",
              "          0., 0., 0., 0., 0., 0., 0., 0., 0., 0., 0., 0., 0., 0., 0., 0., 0.,\n",
              "          0., 0., 0., 0., 0.]],\n",
              "\n",
              "        [[0., 0., 0., 0., 0., 0., 0., 0., 0., 0., 0., 1., 0., 0., 0., 0., 0.,\n",
              "          0., 0., 0., 0., 0., 0., 0., 0., 0., 0., 0., 0., 0., 0., 0., 0., 0.,\n",
              "          0., 0., 0., 0., 0., 0., 0., 0., 0., 0., 0., 0., 0., 0., 0., 0., 0.,\n",
              "          0., 0., 0., 0., 0.]],\n",
              "\n",
              "        [[0., 0., 0., 0., 0., 0., 0., 0., 0., 0., 0., 0., 0., 0., 1., 0., 0.,\n",
              "          0., 0., 0., 0., 0., 0., 0., 0., 0., 0., 0., 0., 0., 0., 0., 0., 0.,\n",
              "          0., 0., 0., 0., 0., 0., 0., 0., 0., 0., 0., 0., 0., 0., 0., 0., 0.,\n",
              "          0., 0., 0., 0., 0.]],\n",
              "\n",
              "        [[0., 1., 0., 0., 0., 0., 0., 0., 0., 0., 0., 0., 0., 0., 0., 0., 0.,\n",
              "          0., 0., 0., 0., 0., 0., 0., 0., 0., 0., 0., 0., 0., 0., 0., 0., 0.,\n",
              "          0., 0., 0., 0., 0., 0., 0., 0., 0., 0., 0., 0., 0., 0., 0., 0., 0.,\n",
              "          0., 0., 0., 0., 0.]],\n",
              "\n",
              "        [[0., 0., 0., 0., 1., 0., 0., 0., 0., 0., 0., 0., 0., 0., 0., 0., 0.,\n",
              "          0., 0., 0., 0., 0., 0., 0., 0., 0., 0., 0., 0., 0., 0., 0., 0., 0.,\n",
              "          0., 0., 0., 0., 0., 0., 0., 0., 0., 0., 0., 0., 0., 0., 0., 0., 0.,\n",
              "          0., 0., 0., 0., 0.]],\n",
              "\n",
              "        [[0., 0., 0., 0., 0., 0., 0., 0., 0., 0., 0., 0., 0., 1., 0., 0., 0.,\n",
              "          0., 0., 0., 0., 0., 0., 0., 0., 0., 0., 0., 0., 0., 0., 0., 0., 0.,\n",
              "          0., 0., 0., 0., 0., 0., 0., 0., 0., 0., 0., 0., 0., 0., 0., 0., 0.,\n",
              "          0., 0., 0., 0., 0.]],\n",
              "\n",
              "        [[0., 0., 0., 0., 0., 0., 0., 0., 0., 0., 0., 0., 0., 0., 1., 0., 0.,\n",
              "          0., 0., 0., 0., 0., 0., 0., 0., 0., 0., 0., 0., 0., 0., 0., 0., 0.,\n",
              "          0., 0., 0., 0., 0., 0., 0., 0., 0., 0., 0., 0., 0., 0., 0., 0., 0.,\n",
              "          0., 0., 0., 0., 0.]],\n",
              "\n",
              "        [[0., 0., 0., 0., 0., 0., 0., 0., 0., 0., 1., 0., 0., 0., 0., 0., 0.,\n",
              "          0., 0., 0., 0., 0., 0., 0., 0., 0., 0., 0., 0., 0., 0., 0., 0., 0.,\n",
              "          0., 0., 0., 0., 0., 0., 0., 0., 0., 0., 0., 0., 0., 0., 0., 0., 0.,\n",
              "          0., 0., 0., 0., 0.]]])"
            ]
          },
          "metadata": {
            "tags": []
          },
          "execution_count": 55
        }
      ]
    },
    {
      "cell_type": "code",
      "metadata": {
        "id": "Z0eaGCIdZIKE",
        "colab_type": "code",
        "outputId": "16719920-e2c5-405a-8ed5-991840ce91f0",
        "colab": {
          "base_uri": "https://localhost:8080/",
          "height": 34
        }
      },
      "source": [
        "lang_rep('Portuguese')"
      ],
      "execution_count": 0,
      "outputs": [
        {
          "output_type": "execute_result",
          "data": {
            "text/plain": [
              "tensor([0])"
            ]
          },
          "metadata": {
            "tags": []
          },
          "execution_count": 56
        }
      ]
    },
    {
      "cell_type": "markdown",
      "metadata": {
        "id": "jEAQldQxfCIN",
        "colab_type": "text"
      },
      "source": [
        "##Data Visualization & Model"
      ]
    },
    {
      "cell_type": "code",
      "metadata": {
        "id": "R4LaOtyAZzL7",
        "colab_type": "code",
        "outputId": "77357dfb-6de5-403d-d258-4d9078a2f90d",
        "colab": {
          "base_uri": "https://localhost:8080/",
          "height": 54
        }
      },
      "source": [
        "count = {}\n",
        "for l in languages:\n",
        "  occurances = Y.count(l)  # count number of times l is in Y.\n",
        "  count[l] = occurances    # dictionary where index is language and no of times it occured in Y as value\n",
        "print(count)"
      ],
      "execution_count": 0,
      "outputs": [
        {
          "output_type": "stream",
          "text": [
            "{'Portuguese': 74, 'Irish': 232, 'Spanish': 298, 'Vietnamese': 73, 'Chinese': 268, 'Greek': 203, 'Czech': 519, 'Dutch': 297, 'Japanese': 991, 'French': 277, 'German': 724, 'Scottish': 100, 'English': 3668, 'Russian': 9384, 'Polish': 139, 'Arabic': 2000, 'Korean': 94, 'Italian': 709}\n"
          ],
          "name": "stdout"
        }
      ]
    },
    {
      "cell_type": "code",
      "metadata": {
        "id": "rTwuFKswgeNu",
        "colab_type": "code",
        "outputId": "467819e9-537b-46dc-920f-1af91e02a9e2",
        "colab": {
          "base_uri": "https://localhost:8080/",
          "height": 630
        }
      },
      "source": [
        "plt_ = sb.barplot(list(count.keys()), list(count.values()))\n",
        "plt_.set_xticklabels(plt_.get_xticklabels(), rotation = 90)"
      ],
      "execution_count": 0,
      "outputs": [
        {
          "output_type": "execute_result",
          "data": {
            "text/plain": [
              "[Text(0, 0, 'Portuguese'),\n",
              " Text(0, 0, 'Irish'),\n",
              " Text(0, 0, 'Spanish'),\n",
              " Text(0, 0, 'Vietnamese'),\n",
              " Text(0, 0, 'Chinese'),\n",
              " Text(0, 0, 'Greek'),\n",
              " Text(0, 0, 'Czech'),\n",
              " Text(0, 0, 'Dutch'),\n",
              " Text(0, 0, 'Japanese'),\n",
              " Text(0, 0, 'French'),\n",
              " Text(0, 0, 'German'),\n",
              " Text(0, 0, 'Scottish'),\n",
              " Text(0, 0, 'English'),\n",
              " Text(0, 0, 'Russian'),\n",
              " Text(0, 0, 'Polish'),\n",
              " Text(0, 0, 'Arabic'),\n",
              " Text(0, 0, 'Korean'),\n",
              " Text(0, 0, 'Italian')]"
            ]
          },
          "metadata": {
            "tags": []
          },
          "execution_count": 58
        },
        {
          "output_type": "display_data",
          "data": {
            "image/png": "[encoded data removed]",
            "text/plain": [
              "<Figure size 432x288 with 1 Axes>"
            ]
          },
          "metadata": {
            "tags": []
          }
        }
      ]
    },
    {
      "cell_type": "code",
      "metadata": {
        "id": "GA4DNkvixPDn",
        "colab_type": "code",
        "colab": {}
      },
      "source": [
        "class RNN_net(nn.Module):\n",
        "  def __init__(self, input_size, hidden_size, output_size):\n",
        "    super(RNN_net, self).__init__()\n",
        "    self.hidden_size = hidden_size\n",
        "    self.i2h = nn.Linear(input_size + hidden_size, hidden_size)\n",
        "    self.i2o = nn.Linear(input_size + hidden_size, output_size)\n",
        "    self.softmax = nn.LogSoftmax(dim = 1)\n",
        "\n",
        "  def forward(self, input_, hidden):\n",
        "    combined = torch.cat((input_, hidden), 1)\n",
        "    hidden = self.i2h(combined)\n",
        "    output = self.i2o(combined)\n",
        "    output = self.softmax(output)\n",
        "    return output, hidden\n",
        "\n",
        "  def init_hidden(self):\n",
        "    return torch.zeros(1, self.hidden_size)"
      ],
      "execution_count": 0,
      "outputs": []
    },
    {
      "cell_type": "code",
      "metadata": {
        "id": "Zb7GUPat7qDr",
        "colab_type": "code",
        "colab": {}
      },
      "source": [
        "n_hidden = 128\n",
        "net = RNN_net(n_letters, n_hidden, n_languages)"
      ],
      "execution_count": 0,
      "outputs": []
    },
    {
      "cell_type": "code",
      "metadata": {
        "id": "pDTW-0pJ8vVr",
        "colab_type": "code",
        "colab": {}
      },
      "source": [
        "def inference(net, name):\n",
        "  net.eval()\n",
        "  name_ohe = name_represent(name)\n",
        "  hidden = net.init_hidden()\n",
        "\n",
        "  for i in range(name_ohe.size()[0]):\n",
        "    output, hidden = net(name_ohe[i], hidden)\n",
        "  return output"
      ],
      "execution_count": 0,
      "outputs": []
    },
    {
      "cell_type": "code",
      "metadata": {
        "id": "vyWrpqsKCCRy",
        "colab_type": "code",
        "outputId": "d48acb21-8fb1-4f27-92c6-5ae559f0706f",
        "colab": {
          "base_uri": "https://localhost:8080/",
          "height": 68
        }
      },
      "source": [
        "output = inference(net, 'Abashkin')\n",
        "index = output.argmax()\n",
        "print(output, index)"
      ],
      "execution_count": 0,
      "outputs": [
        {
          "output_type": "stream",
          "text": [
            "tensor([[-2.9529, -2.8543, -2.8982, -2.8676, -2.7933, -2.8966, -2.9391, -2.9201,\n",
            "         -2.7893, -2.8851, -2.8952, -2.8672, -2.9195, -2.8231, -3.0179, -2.8471,\n",
            "         -2.9653, -2.9249]], grad_fn=<LogSoftmaxBackward>) tensor(8)\n"
          ],
          "name": "stdout"
        }
      ]
    },
    {
      "cell_type": "code",
      "metadata": {
        "id": "NR5Ur7PiDJrr",
        "colab_type": "code",
        "colab": {}
      },
      "source": [
        "def dataloader(n_points, X, Y):\n",
        "  final_data = []\n",
        "  for i in range(n_points):\n",
        "    index = np.random.randint(len(X))\n",
        "    name_, lang_ = X[index], Y[index]\n",
        "    final_data.append((name_, lang_, name_represent(name_), lang_rep(lang_)))\n",
        "  return final_data"
      ],
      "execution_count": 0,
      "outputs": []
    },
    {
      "cell_type": "code",
      "metadata": {
        "id": "vt71zaOuLAUq",
        "colab_type": "code",
        "colab": {}
      },
      "source": [
        "def eval(net, n_points, k, X, Y):\n",
        "  data = dataloader(n_points, X, Y)\n",
        "  correct = 0\n",
        "  for name, language,name_oh, lang_rep in data:\n",
        "\n",
        "    output = inference(net, name)\n",
        "    val, indices = output.topk(k)\n",
        "\n",
        "    if lang_rep in indices:\n",
        "      correct += 1\n",
        "\n",
        "  accuracy = correct/n_points\n",
        "  return accuracy"
      ],
      "execution_count": 0,
      "outputs": []
    },
    {
      "cell_type": "code",
      "metadata": {
        "id": "mraD0y8R3JM0",
        "colab_type": "code",
        "outputId": "298b1b01-3f29-45a8-f8ed-1cbe925e9068",
        "colab": {
          "base_uri": "https://localhost:8080/",
          "height": 34
        }
      },
      "source": [
        "eval(net, 1000, 1, X_test, Y_test)"
      ],
      "execution_count": 0,
      "outputs": [
        {
          "output_type": "execute_result",
          "data": {
            "text/plain": [
              "0.036"
            ]
          },
          "metadata": {
            "tags": []
          },
          "execution_count": 65
        }
      ]
    },
    {
      "cell_type": "code",
      "metadata": {
        "id": "oHA-_Kd3D_Af",
        "colab_type": "code",
        "colab": {}
      },
      "source": [
        "def train(net, opt, criterion, n_points):\n",
        "  opt.zero_grad()\n",
        "  total_loss = 0\n",
        "\n",
        "  data = dataloader(n_points, X_train, Y_train)\n",
        "\n",
        "  for name, lang, name_oh, lang_rep in data:\n",
        "    hidden = net.init_hidden()\n",
        "\n",
        "    for i in range(name_oh.size()[0]):\n",
        "      output, hidden = net(name_oh[i], hidden)\n",
        "\n",
        "    loss = criterion(output, lang_rep)\n",
        "    loss.backward(retain_graph = True)\n",
        "\n",
        "    total_loss += loss\n",
        "\n",
        "  opt.step()\n",
        "  return total_loss/n_points"
      ],
      "execution_count": 0,
      "outputs": []
    },
    {
      "cell_type": "code",
      "metadata": {
        "id": "tBisW0x1ehNv",
        "colab_type": "code",
        "colab": {}
      },
      "source": [
        "criterion = nn.NLLLoss()\n",
        "opt = optim.SGD(net.parameters(), lr = 0.01, momentum = 0.9)"
      ],
      "execution_count": 0,
      "outputs": []
    },
    {
      "cell_type": "code",
      "metadata": {
        "id": "zTd2ixmRe4yu",
        "colab_type": "code",
        "outputId": "3db390d2-a1a4-46fe-e35e-3c8055979ae4",
        "colab": {
          "base_uri": "https://localhost:8080/",
          "height": 68
        }
      },
      "source": [
        "%%time\n",
        "train(net, opt, criterion, 200)"
      ],
      "execution_count": 0,
      "outputs": [
        {
          "output_type": "stream",
          "text": [
            "CPU times: user 250 ms, sys: 7.06 ms, total: 257 ms\n",
            "Wall time: 261 ms\n"
          ],
          "name": "stdout"
        },
        {
          "output_type": "execute_result",
          "data": {
            "text/plain": [
              "tensor(2.8680, grad_fn=<DivBackward0>)"
            ]
          },
          "metadata": {
            "tags": []
          },
          "execution_count": 68
        }
      ]
    },
    {
      "cell_type": "code",
      "metadata": {
        "id": "Fh9r3iXzfITv",
        "colab_type": "code",
        "outputId": "0b1573c6-9d2c-4e94-d57c-422ae4f8374d",
        "colab": {
          "base_uri": "https://localhost:8080/",
          "height": 34
        }
      },
      "source": [
        "eval(net, 1000, 1, X_test, Y_test)"
      ],
      "execution_count": 0,
      "outputs": [
        {
          "output_type": "execute_result",
          "data": {
            "text/plain": [
              "0.492"
            ]
          },
          "metadata": {
            "tags": []
          },
          "execution_count": 69
        }
      ]
    },
    {
      "cell_type": "code",
      "metadata": {
        "id": "nBKw2HxwfaHY",
        "colab_type": "code",
        "colab": {}
      },
      "source": [
        "def train_setup(net, lr = 0.01, n_batches = 100, batch_size = 10, momentum = 0.9, display_freq = 5):\n",
        "  criterion = nn.NLLLoss()\n",
        "  opt = optim.SGD(net.parameters(), lr = lr, momentum=momentum)\n",
        "\n",
        "  loss_arr = np.zeros(n_batches + 1)\n",
        "  for i in range(n_batches):\n",
        "    loss_arr[i+1] = (loss_arr[i] * i + train(net, opt, criterion, batch_size))/(i + 1)\n",
        "\n",
        "    if i % display_freq == display_freq-1:\n",
        "      clear_output(wait=True)\n",
        "\n",
        "      print('Iteration', i, 'Top-1:', eval(net, len(X_test), 1, X_test, Y_test), 'Top-2:', eval(net, len(X_test), 2, X_test, Y_test))\n",
        "      plt.figure()\n",
        "      plt.plot(loss_arr[1:i], '-*')\n",
        "      plt.xlabel('Iteration')\n",
        "      plt.ylabel('Loss')\n",
        "      plt.show()\n",
        "      print('\\n\\n')"
      ],
      "execution_count": 0,
      "outputs": []
    },
    {
      "cell_type": "code",
      "metadata": {
        "id": "IggEa7JJQZTI",
        "colab_type": "code",
        "outputId": "09e3e4ca-3f97-43ec-b545-5d8742c544a7",
        "colab": {
          "base_uri": "https://localhost:8080/",
          "height": 353
        }
      },
      "source": [
        "n_hidden = 128\n",
        "net = RNN_net(n_letters, n_hidden, n_languages)\n",
        "train_setup(net, lr = 0.0005, n_batches = 100, batch_size = 256)"
      ],
      "execution_count": 0,
      "outputs": [
        {
          "output_type": "stream",
          "text": [
            "Iteration 99 Top-1: 0.6795511221945137 Top-2: 0.7987531172069825\n"
          ],
          "name": "stdout"
        },
        {
          "output_type": "display_data",
          "data": {
            "image/png": "[encoded data removed]",
            "text/plain": [
              "<Figure size 432x288 with 1 Axes>"
            ]
          },
          "metadata": {
            "tags": []
          }
        },
        {
          "output_type": "stream",
          "text": [
            "\n",
            "\n",
            "\n"
          ],
          "name": "stdout"
        }
      ]
    },
    {
      "cell_type": "markdown",
      "metadata": {
        "id": "KJ1SK_6ajbNf",
        "colab_type": "text"
      },
      "source": [
        "##LSTM Cell"
      ]
    },
    {
      "cell_type": "code",
      "metadata": {
        "id": "Otgk1y0bRRhk",
        "colab_type": "code",
        "colab": {}
      },
      "source": [
        "class LSTM_net(nn.Module):\n",
        "  def __init__(self, input_size, hidden_size, output_size):\n",
        "    super(LSTM_net, self).__init__()\n",
        "    self.hidden_size = hidden_size\n",
        "    self.lstm_cell = nn.LSTM(input_size, hidden_size)  # the internal nn classes require size in their inits when called & when called through objects\n",
        "    self.h2o = nn.Linear(hidden_size, output_size)   # from forward func, we pass tensors as the internal func in nn classes after init require tensors\n",
        "    self.SoftMax  =nn.LogSoftmax(dim = 2)\n",
        "\n",
        "  def forward(self, input_, hidden):\n",
        "    out, hidden = self.lstm_cell(input_.view(1, 1, -1), hidden)  # -1 is to flatten out the input \n",
        "    output = self.h2o(hidden[0])\n",
        "    output = self.SoftMax(output)\n",
        "    return output.view(1, -1), hidden\n",
        "\n",
        "  def init_hidden(self):   # a tuple because lstms require one hidden layer n one cell layer(for lstm operations) | lstm allows mutilayered networks.\n",
        "    return (torch.zeros(1, 1, self.hidden_size), torch.zeros(1, 1, self.hidden_size)) #  (1 -> layers, 1 -> batch_size(x dim of vector), size of vector) "
      ],
      "execution_count": 0,
      "outputs": []
    },
    {
      "cell_type": "code",
      "metadata": {
        "id": "R4Z9ehFciu86",
        "colab_type": "code",
        "outputId": "dc2e21a3-4e1a-4b0f-e0c0-54f2c34ceabd",
        "colab": {
          "base_uri": "https://localhost:8080/",
          "height": 353
        }
      },
      "source": [
        "n_hidden = 128\n",
        "lstm_net = LSTM_net(n_letters, n_hidden, n_languages)\n",
        "train_setup(lstm_net, lr = 0.005, n_batches = 100, batch_size = 256)"
      ],
      "execution_count": 0,
      "outputs": [
        {
          "output_type": "stream",
          "text": [
            "Iteration 99 Top-1: 0.6566084788029926 Top-2: 0.7825436408977556\n"
          ],
          "name": "stdout"
        },
        {
          "output_type": "display_data",
          "data": {
            "image/png": "[encoded data removed]",
            "text/plain": [
              "<Figure size 432x288 with 1 Axes>"
            ]
          },
          "metadata": {
            "tags": []
          }
        },
        {
          "output_type": "stream",
          "text": [
            "\n",
            "\n",
            "\n"
          ],
          "name": "stdout"
        }
      ]
    },
    {
      "cell_type": "markdown",
      "metadata": {
        "id": "VF0zU-XQjfMf",
        "colab_type": "text"
      },
      "source": [
        "## GRU Cell"
      ]
    },
    {
      "cell_type": "code",
      "metadata": {
        "id": "OiPBRFMzjHKv",
        "colab_type": "code",
        "colab": {}
      },
      "source": [
        "class GRU_net(nn.Module):\n",
        "  def __init__(self, input_size, hidden_size, output_size):\n",
        "    super(GRU_net, self).__init__()\n",
        "    self.hidden_size = hidden_size\n",
        "    self.gru_cell = nn.GRU(input_size, hidden_size)\n",
        "    self.h2o = nn.Linear(hidden_size, output_size)\n",
        "    self.SoftMax = nn.LogSoftmax(dim = 2)\n",
        "\n",
        "  def forward(self, input_, hidden):\n",
        "    output, hidden = self.gru_cell(input_.view(1, 1, -1), hidden)\n",
        "    output = self.h2o(hidden)\n",
        "    output = self.SoftMax(output)\n",
        "    return output.view(1, -1)\n",
        "\n",
        "  def init_hidden(self):\n",
        "    return torch.zeros(1, 1, self.hidden_size)"
      ],
      "execution_count": 0,
      "outputs": []
    },
    {
      "cell_type": "code",
      "metadata": {
        "id": "IQjzBT8ElLoA",
        "colab_type": "code",
        "colab": {}
      },
      "source": [
        "n_hidden = 128\n",
        "gru_net = GRU_net(n_letters, n_hidden, n_languages)\n",
        "train_setup(gru_net, lr = 0.0005, n_batches = 100, batch_size = 256)"
      ],
      "execution_count": 0,
      "outputs": []
    },
    {
      "cell_type": "code",
      "metadata": {
        "id": "ScHB8vkdt1no",
        "colab_type": "code",
        "colab": {}
      },
      "source": [
        ""
      ],
      "execution_count": 0,
      "outputs": []
    }
  ]
}